{
 "cells": [
  {
   "cell_type": "code",
   "execution_count": null,
   "id": "ece7c92a-990e-4448-8355-c8ab3bcb427d",
   "metadata": {},
   "outputs": [],
   "source": [
    "#if else statement assignment \n"
   ]
  },
  {
   "cell_type": "code",
   "execution_count": 42,
   "id": "23774fa9-196f-48ea-b96e-c1af6f981413",
   "metadata": {},
   "outputs": [
    {
     "name": "stdin",
     "output_type": "stream",
     "text": [
      "Enter the number of units:  300\n"
     ]
    },
    {
     "name": "stdout",
     "output_type": "stream",
     "text": [
      "Your electricity bill is: Rs. 1500\n"
     ]
    }
   ],
   "source": [
    "\"\"\"Q1. Write a program to calculate the electricity bill\n",
    "using only if statement? (accept number of unit from user)\n",
    "according to the following criteria:\n",
    "\n",
    "Unit Price\n",
    "First 100 units no charge\n",
    "Next 100 units Rs 5 per unit\n",
    "After 200 units Rs 10 per unit\n",
    "(For example, if input unit is 350 than total bill amount is Rs2000). Lets explain...\n",
    "For first 100 no charges\n",
    "Now you have 250 unit remaining\n",
    "100-200 you need to pay – 100*5 = 500\n",
    "Now 250-100 you need to pay 150*10 = 1500\n",
    "Total = 500+1500 = 2000 \"\"\"\n",
    "\n",
    "\n",
    "# this program is written to calculat the electricity bill from the user input \n",
    "units = int(input(\"Enter the number of units: \"))\n",
    "\n",
    "if units <= 100:\n",
    "    bill = 0\n",
    "elif units <= 200:\n",
    "    bill = (units - 100) * 5\n",
    "else:\n",
    "    bill = 500 + ((units - 200) * 10)\n",
    "\n",
    "print(\"Your electricity bill is: Rs.\", bill)\n",
    "\n",
    "\n",
    " "
   ]
  },
  {
   "cell_type": "code",
   "execution_count": 65,
   "id": "f8208e8b-1de6-42dd-a5c8-94918f6660bd",
   "metadata": {},
   "outputs": [
    {
     "name": "stdin",
     "output_type": "stream",
     "text": [
      "Enter your percentage:  80\n"
     ]
    },
    {
     "name": "stdout",
     "output_type": "stream",
     "text": [
      "Your grade is B\n"
     ]
    }
   ],
   "source": [
    "\"\"\"Q2. Write a program to accept percentage from the user and display\n",
    "the grade according to the following criteria:\n",
    "\n",
    "Marks Grade\n",
    "> 90 A\n",
    "> 80 and <= 90 B\n",
    ">= 60 and <= 80 C\n",
    "below 60 D\n",
    "\"\"\"\n",
    "    # this program is written  to accept the percentage from user and display their grades\n",
    "\n",
    "percentage = float(input(\"Enter your percentage: \"))\n",
    "\n",
    "if percentage > 90:\n",
    "    print(\"Your grade is A\")\n",
    "elif 80 <= percentage <= 90:\n",
    "    print(\"Your grade is B\")\n",
    "elif 60 <= percentage < 80:\n",
    "    print(\"Your grade is C\")\n",
    "else:\n",
    "    print(\"Your grade is D\")\n",
    "\n",
    "\n"
   ]
  },
  {
   "cell_type": "code",
   "execution_count": 69,
   "id": "67b3169d-8646-4c90-822b-1b16c997f6b0",
   "metadata": {},
   "outputs": [
    {
     "name": "stdin",
     "output_type": "stream",
     "text": [
      "Enter age of person 1:  11\n",
      "Enter age of person 2:  23\n",
      "Enter age of person 3:  45\n",
      "Enter age of person 4:  16\n"
     ]
    },
    {
     "name": "stdout",
     "output_type": "stream",
     "text": [
      "1st person is the youngest age= 11 years\n"
     ]
    }
   ],
   "source": [
    "\"\"\"Q3. Accept the age of 4 people and display the youngest one?\"\"\"\n",
    "\n",
    "age1 = int(input(\"Enter age of person 1: \"))\n",
    "age2 = int(input(\"Enter age of person 2: \"))\n",
    "age3 = int(input(\"Enter age of person 3: \"))\n",
    "age4 = int(input(\"Enter age of person 4: \"))\n",
    "\n",
    "if age1 < age2 and age1 < age3 and age1 < age4:\n",
    "    print(\"1st person is the youngest age=\", age1, \"years\")\n",
    "elif age2 < age1 and age2 < age3 and age2 < age4:\n",
    "    print(\"2nd person is the youngest age=\", age2, \"years\")\n",
    "elif age3 < age1 and age3 < age2 and age3 < age4:\n",
    "    print(\"3rd person is the youngest age=\", age3, \"years\")\n",
    "else:\n",
    "    print(\"4th person is the youngest age =\", age4, \"years\")\n",
    "\n",
    "\n",
    "\n",
    "\n"
   ]
  },
  {
   "cell_type": "code",
   "execution_count": 73,
   "id": "5dc17410-1ed7-4c44-8c1a-da8eedbd8895",
   "metadata": {},
   "outputs": [
    {
     "name": "stdin",
     "output_type": "stream",
     "text": [
      "Enter your salary:  40000\n",
      "Enter your years of service:  5\n"
     ]
    },
    {
     "name": "stdout",
     "output_type": "stream",
     "text": [
      "Your net bonus amount is:  3200.0\n"
     ]
    }
   ],
   "source": [
    "\"\"\" Q4. A company decided to give bonus to employee\n",
    "according to following criteria:\n",
    "\n",
    "Time period of Service Bonus\n",
    "\n",
    "More than 10 years 10%\n",
    "\n",
    ">=6 and <=10 8%\n",
    "\n",
    "Less than 6 years 5%\n",
    "\n",
    "Ask user for their salary and years of service and print the\n",
    "net bonus amount?\n",
    "\"\"\"\n",
    "## this program is written to calculate bonus point\n",
    "\n",
    "salary = float(input(\"Enter your salary: \"))\n",
    "years_of_service = float(input(\"Enter your years of service: \"))\n",
    "\n",
    "if years_of_service > 10:\n",
    "    bonus_percentage = 10\n",
    "elif 6 >= years_of_service <= 10:\n",
    "    bonus_percentage = 8\n",
    "else:\n",
    "    bonus_percentage = 5\n",
    "\n",
    "bonus_amount = (salary / 100) * bonus_percentage\n",
    "print(\"Your net bonus amount is: \", bonus_amount)\n",
    "\n",
    "\n",
    "\n",
    "\n"
   ]
  },
  {
   "cell_type": "code",
   "execution_count": 75,
   "id": "553c16a5-fb29-4520-80d0-0172e8edfd5f",
   "metadata": {},
   "outputs": [
    {
     "name": "stdin",
     "output_type": "stream",
     "text": [
      "Enter first number:  2.4\n",
      "Enter second number:  32\n",
      "Enter third number:  34.4\n"
     ]
    },
    {
     "name": "stdout",
     "output_type": "stream",
     "text": [
      "Second largest number is:  32.0\n"
     ]
    }
   ],
   "source": [
    "\"\"\"Q5. Accept three numbers from the user and\n",
    "display the second largest number?\"\"\"\n",
    "\n",
    "num1 = float(input(\"Enter first number: \"))\n",
    "num2 = float(input(\"Enter second number: \"))\n",
    "num3 = float(input(\"Enter third number: \"))\n",
    "\n",
    "if num1 >= num2 and num1 >= num3:\n",
    "    second_largest = max(num2, num3)\n",
    "elif num2 >= num1 and num2 >= num3:\n",
    "    second_largest = max(num1, num3)\n",
    "else:\n",
    "    second_largest = max(num1, num2)\n",
    "\n",
    "print(\"Second largest number is: \", second_largest)\n",
    "\n",
    "\n",
    "\n",
    "\n"
   ]
  },
  {
   "cell_type": "code",
   "execution_count": 76,
   "id": "bc55f0c6-71b4-4bc1-9ead-ea7bda89194b",
   "metadata": {},
   "outputs": [
    {
     "name": "stdin",
     "output_type": "stream",
     "text": [
      "Enter the marked price:  2000\n"
     ]
    },
    {
     "name": "stdout",
     "output_type": "stream",
     "text": [
      "Net amount to pay:  1800.0\n"
     ]
    }
   ],
   "source": [
    "\"\"\"Q6. Accept the marked price from the user and calculate\n",
    "the Net amount as (Marked Price – Discount) to pay\n",
    "according to following criteria:\n",
    "\n",
    "Marked Price Discount\n",
    ">10000 20%\n",
    ">7000 and <=10000 15%\n",
    "<=7000 10%\n",
    "\"\"\"\n",
    "\n",
    "marked_price = float(input(\"Enter the marked price: \"))\n",
    "\n",
    "if marked_price > 10000:\n",
    "    discount = marked_price * 0.20\n",
    "elif 7000 < marked_price <= 10000:\n",
    "    discount = marked_price * 0.15\n",
    "else:\n",
    "    discount = marked_price * 0.10\n",
    "\n",
    "net_amount = marked_price - discount\n",
    "print(\"Net amount to pay: \", net_amount)\n",
    "\n",
    "\n"
   ]
  },
  {
   "cell_type": "code",
   "execution_count": 78,
   "id": "a0141e24-97df-4b3e-ad5b-61b6bb2662e9",
   "metadata": {},
   "outputs": [
    {
     "name": "stdin",
     "output_type": "stream",
     "text": [
      "Enter English marks:  22\n",
      "Enter Math marks:  32\n",
      "Enter Science marks:  34\n",
      "Enter Social Studies marks:  56\n"
     ]
    },
    {
     "name": "stdout",
     "output_type": "stream",
     "text": [
      "No stream allotted for the student\n"
     ]
    }
   ],
   "source": [
    "\"\"\"Q7. Accept the marks of English, Math and Science,\n",
    "Social Studies Subject and display the stream allotted\n",
    "according to following:\n",
    "\n",
    "All Subjects more than 80 marks — Science Stream\n",
    "\n",
    "English >80 and Math, Science above 50 — Commerce Stream\n",
    "\n",
    "English > 80 and social studies > 80 — Humanities\"\"\"\n",
    "\n",
    "\n",
    "\n",
    "english = float(input(\"Enter English marks: \"))\n",
    "math = float(input(\"Enter Math marks: \"))\n",
    "science = float(input(\"Enter Science marks: \"))\n",
    "social_studies = float(input(\"Enter Social Studies marks: \"))\n",
    "\n",
    "if english > 80 and math > 80 and science > 80 and social_studies > 80:\n",
    "    print(\"Science Stream\")\n",
    "elif english > 80 and math > 50 and science > 50:\n",
    "    print(\"Commerce Stream\")\n",
    "elif english > 80 and social_studies > 80:\n",
    "    print(\"Humanities Stream\")\n",
    "else:\n",
    "    print(\"No stream allotted for the student\")\n",
    "\n",
    "\n",
    "\n"
   ]
  },
  {
   "cell_type": "code",
   "execution_count": 80,
   "id": "07537aff-3b43-44f8-a93a-e32181559205",
   "metadata": {},
   "outputs": [
    {
     "name": "stdin",
     "output_type": "stream",
     "text": [
      "Enter a number:  55\n"
     ]
    },
    {
     "name": "stdout",
     "output_type": "stream",
     "text": [
      "Hello\n"
     ]
    }
   ],
   "source": [
    "\"\"\"Q8. Write a program to display \"Hello\" if a number entered\n",
    "by user is a multiple of five, otherwise print \"Bye\"?\"\"\"\n",
    "\n",
    "\n",
    "num = int(input(\"Enter a number: \"))\n",
    "\n",
    "if num % 5 == 0:\n",
    "    print(\"Hello\")\n",
    "else:\n",
    "    print(\"Bye\")\n",
    "\n",
    "\n",
    "\n",
    "\n"
   ]
  },
  {
   "cell_type": "code",
   "execution_count": 1,
   "id": "074bfd15-5735-4138-8a7d-584399f61d49",
   "metadata": {},
   "outputs": [
    {
     "name": "stdin",
     "output_type": "stream",
     "text": [
      "Enter a number:  666\n"
     ]
    },
    {
     "name": "stdout",
     "output_type": "stream",
     "text": [
      "The last digit is divisible by 3\n"
     ]
    }
   ],
   "source": [
    "\"\"\"Q9. Write a program to check whether the last digit of a number\n",
    "(entered by user) is divisible by 3 or not?\"\"\"\n",
    "\n",
    "num = int(input(\"Enter a number: \"))\n",
    "last_digit=num%10\n",
    "if last_digit % 3 == 0:\n",
    "    print(\"The last digit is divisible by 3\")\n",
    "else:\n",
    "    print(\"The last digit is not divisible by 3\")\n",
    "\n",
    "\n"
   ]
  },
  {
   "cell_type": "code",
   "execution_count": 84,
   "id": "2c2f1aac-eabd-4b41-a13d-03ac1498e98c",
   "metadata": {},
   "outputs": [
    {
     "name": "stdin",
     "output_type": "stream",
     "text": [
      "Enter a number:  4444\n"
     ]
    },
    {
     "name": "stdout",
     "output_type": "stream",
     "text": [
      "The number is not a three-digit number\n"
     ]
    }
   ],
   "source": [
    "\"\"\"Q10. Write a program to check whether a number entered\n",
    "is three-digit number or not?\"\"\"\n",
    "\n",
    "num = int(input(\"Enter a number: \"))\n",
    "\n",
    "if 100 <= num <= 999:\n",
    "    print(\"The number is a three-digit number\")\n",
    "else:\n",
    "    print(\"The number is not a three-digit number\")\n",
    "\n",
    "\n",
    "\n",
    "\n"
   ]
  },
  {
   "cell_type": "code",
   "execution_count": null,
   "id": "2bc82057-86aa-4648-8fc3-08bd467e1824",
   "metadata": {},
   "outputs": [],
   "source": []
  }
 ],
 "metadata": {
  "kernelspec": {
   "display_name": "Python 3 (ipykernel)",
   "language": "python",
   "name": "python3"
  },
  "language_info": {
   "codemirror_mode": {
    "name": "ipython",
    "version": 3
   },
   "file_extension": ".py",
   "mimetype": "text/x-python",
   "name": "python",
   "nbconvert_exporter": "python",
   "pygments_lexer": "ipython3",
   "version": "3.12.4"
  }
 },
 "nbformat": 4,
 "nbformat_minor": 5
}
